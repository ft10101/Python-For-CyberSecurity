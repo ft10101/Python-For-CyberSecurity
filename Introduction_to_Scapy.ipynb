{
  "nbformat": 4,
  "nbformat_minor": 0,
  "metadata": {
    "colab": {
      "provenance": [],
      "authorship_tag": "ABX9TyPAOesfXNPzbWgMAPW5olJ/",
      "include_colab_link": true
    },
    "kernelspec": {
      "name": "python3",
      "display_name": "Python 3"
    },
    "language_info": {
      "name": "python"
    }
  },
  "cells": [
    {
      "cell_type": "markdown",
      "metadata": {
        "id": "view-in-github",
        "colab_type": "text"
      },
      "source": [
        "<a href=\"https://colab.research.google.com/github/ft10101/Python-For-CyberSecurity/blob/main/Introduction_to_Scapy.ipynb\" target=\"_parent\"><img src=\"https://colab.research.google.com/assets/colab-badge.svg\" alt=\"Open In Colab\"/></a>"
      ]
    },
    {
      "cell_type": "markdown",
      "source": [
        "**Introduction to Scapy**"
      ],
      "metadata": {
        "id": "iE_5WExGCCov"
      }
    },
    {
      "cell_type": "code",
      "source": [
        "pip install scapy"
      ],
      "metadata": {
        "colab": {
          "base_uri": "https://localhost:8080/"
        },
        "id": "ywg3hdSEaBzC",
        "outputId": "95160a5d-07ee-4a42-f066-df168fb60f49"
      },
      "execution_count": null,
      "outputs": [
        {
          "output_type": "stream",
          "name": "stdout",
          "text": [
            "Looking in indexes: https://pypi.org/simple, https://us-python.pkg.dev/colab-wheels/public/simple/\n",
            "Requirement already satisfied: scapy in /usr/local/lib/python3.9/dist-packages (2.5.0)\n"
          ]
        }
      ]
    },
    {
      "cell_type": "code",
      "execution_count": null,
      "metadata": {
        "id": "qqPdDqx5ZyGG"
      },
      "outputs": [],
      "source": [
        "from scapy.all import *"
      ]
    },
    {
      "cell_type": "code",
      "source": [
        "packet = rdpcap('/content/crack-02.cap')"
      ],
      "metadata": {
        "id": "G3dSXQEsZ3Ah"
      },
      "execution_count": null,
      "outputs": []
    },
    {
      "cell_type": "code",
      "source": [
        "packet"
      ],
      "metadata": {
        "colab": {
          "base_uri": "https://localhost:8080/"
        },
        "id": "QVUrIClZiEfd",
        "outputId": "2c949140-bbcb-4396-9fe0-e03880ad36bc"
      },
      "execution_count": null,
      "outputs": [
        {
          "output_type": "execute_result",
          "data": {
            "text/plain": [
              "<crack-02.cap: TCP:0 UDP:0 ICMP:0 Other:138920>"
            ]
          },
          "metadata": {},
          "execution_count": 24
        }
      ]
    },
    {
      "cell_type": "code",
      "source": [
        "p= packet[0]"
      ],
      "metadata": {
        "id": "dfYs0_sdiFmh"
      },
      "execution_count": null,
      "outputs": []
    },
    {
      "cell_type": "code",
      "source": [
        "p.show()"
      ],
      "metadata": {
        "colab": {
          "base_uri": "https://localhost:8080/"
        },
        "id": "by-fK-2BiJ7S",
        "outputId": "b6ee0850-9da8-41f8-dd9e-cbfcaf089732"
      },
      "execution_count": null,
      "outputs": [
        {
          "output_type": "stream",
          "name": "stdout",
          "text": [
            "###[ 802.11 ]### \n",
            "  subtype   = CTS\n",
            "  type      = Control\n",
            "  proto     = 0\n",
            "  FCfield   = \n",
            "  ID        = 35840\n",
            "  addr1     = 54:37:bb:b3:e3:39 (RA)\n",
            "\n"
          ]
        }
      ]
    },
    {
      "cell_type": "code",
      "source": [
        "p=packet[3]"
      ],
      "metadata": {
        "id": "r9HTaEEAiL_4"
      },
      "execution_count": null,
      "outputs": []
    },
    {
      "cell_type": "code",
      "source": [
        "p.show()"
      ],
      "metadata": {
        "colab": {
          "base_uri": "https://localhost:8080/"
        },
        "id": "5R7918hiim9J",
        "outputId": "08896ae8-13b5-4981-8ece-378c7350d8ad"
      },
      "execution_count": null,
      "outputs": [
        {
          "output_type": "stream",
          "name": "stdout",
          "text": [
            "###[ 802.11 ]### \n",
            "  subtype   = Ack\n",
            "  type      = Control\n",
            "  proto     = 0\n",
            "  FCfield   = \n",
            "  ID        = 0\n",
            "  addr1     = 38:e6:0a:b8:2a:2e (RA)\n",
            "\n"
          ]
        }
      ]
    },
    {
      "cell_type": "code",
      "source": [
        "p = IP()/TCP() #defines a new packet"
      ],
      "metadata": {
        "id": "BS9Q2FoEjA-C"
      },
      "execution_count": null,
      "outputs": []
    },
    {
      "cell_type": "code",
      "source": [
        "p.show()"
      ],
      "metadata": {
        "colab": {
          "base_uri": "https://localhost:8080/"
        },
        "id": "ioZATQNsjwgk",
        "outputId": "bdb6b080-2171-4b60-d40e-dcc5bdcd1d87"
      },
      "execution_count": null,
      "outputs": [
        {
          "output_type": "stream",
          "name": "stdout",
          "text": [
            "###[ IP ]### \n",
            "  version   = 4\n",
            "  ihl       = None\n",
            "  tos       = 0x0\n",
            "  len       = None\n",
            "  id        = 1\n",
            "  flags     = \n",
            "  frag      = 0\n",
            "  ttl       = 64\n",
            "  proto     = 6\n",
            "  chksum    = None\n",
            "  src       = 127.0.0.1\n",
            "  dst       = 127.0.0.1\n",
            "  \\options   \\\n",
            "###[ TCP ]### \n",
            "     sport     = 20\n",
            "     dport     = 80\n",
            "     seq       = 0\n",
            "     ack       = 0\n",
            "     dataofs   = None\n",
            "     reserved  = 0\n",
            "     flags     = S\n",
            "     window    = 8192\n",
            "     chksum    = None\n",
            "     urgptr    = 0\n",
            "     options   = ''\n",
            "\n"
          ]
        }
      ]
    },
    {
      "cell_type": "code",
      "source": [
        "p[TCP].dport=8080 \n",
        "#switches http to http_at"
      ],
      "metadata": {
        "id": "AsUNkQDFioBx"
      },
      "execution_count": null,
      "outputs": []
    },
    {
      "cell_type": "code",
      "source": [
        "p.show()"
      ],
      "metadata": {
        "colab": {
          "base_uri": "https://localhost:8080/"
        },
        "id": "cmlnC37rjyHi",
        "outputId": "13457f9a-102d-4efa-fd24-5ea4fc3cec34"
      },
      "execution_count": null,
      "outputs": [
        {
          "output_type": "stream",
          "name": "stdout",
          "text": [
            "###[ IP ]### \n",
            "  version   = 4\n",
            "  ihl       = None\n",
            "  tos       = 0x0\n",
            "  len       = None\n",
            "  id        = 1\n",
            "  flags     = \n",
            "  frag      = 0\n",
            "  ttl       = 64\n",
            "  proto     = 6\n",
            "  chksum    = None\n",
            "  src       = 127.0.0.1\n",
            "  dst       = 127.0.0.1\n",
            "  \\options   \\\n",
            "###[ TCP ]### \n",
            "     sport     = 20\n",
            "     dport     = 8080\n",
            "     seq       = 0\n",
            "     ack       = 0\n",
            "     dataofs   = None\n",
            "     reserved  = 0\n",
            "     flags     = S\n",
            "     window    = 8192\n",
            "     chksum    = None\n",
            "     urgptr    = 0\n",
            "     options   = ''\n",
            "\n"
          ]
        }
      ]
    },
    {
      "cell_type": "code",
      "source": [
        "p = IP(dst=\"8.8.8.8\")/TCP(dport=53)\n",
        "# packet creation + modification"
      ],
      "metadata": {
        "id": "yL98FS6BkD8z"
      },
      "execution_count": null,
      "outputs": []
    },
    {
      "cell_type": "code",
      "source": [
        "p.show()"
      ],
      "metadata": {
        "colab": {
          "base_uri": "https://localhost:8080/"
        },
        "id": "L8C9VOwfAswC",
        "outputId": "18552d5c-23eb-42a4-d090-38383a6b0276"
      },
      "execution_count": null,
      "outputs": [
        {
          "output_type": "stream",
          "name": "stdout",
          "text": [
            "###[ IP ]### \n",
            "  version   = 4\n",
            "  ihl       = None\n",
            "  tos       = 0x0\n",
            "  len       = None\n",
            "  id        = 1\n",
            "  flags     = \n",
            "  frag      = 0\n",
            "  ttl       = 64\n",
            "  proto     = 6\n",
            "  chksum    = None\n",
            "  src       = 172.28.0.12\n",
            "  dst       = 8.8.8.8\n",
            "  \\options   \\\n",
            "###[ TCP ]### \n",
            "     sport     = 20\n",
            "     dport     = 53\n",
            "     seq       = 0\n",
            "     ack       = 0\n",
            "     dataofs   = None\n",
            "     reserved  = 0\n",
            "     flags     = S\n",
            "     window    = 8192\n",
            "     chksum    = None\n",
            "     urgptr    = 0\n",
            "     options   = ''\n",
            "\n"
          ]
        }
      ]
    },
    {
      "cell_type": "code",
      "source": [
        "p = IP(dst=\"8.8.8.8\")/UDP(dport=53)/DNS()\n",
        "# upd packet containing a dns packet"
      ],
      "metadata": {
        "id": "0hhMWKVQAuq1"
      },
      "execution_count": null,
      "outputs": []
    },
    {
      "cell_type": "code",
      "source": [
        "p.show()\n",
        "#default udp packet created"
      ],
      "metadata": {
        "colab": {
          "base_uri": "https://localhost:8080/"
        },
        "id": "scvLvrHOBxRY",
        "outputId": "a243d2e3-305b-4e54-baff-3756cd8e8b64"
      },
      "execution_count": null,
      "outputs": [
        {
          "output_type": "stream",
          "name": "stdout",
          "text": [
            "###[ IP ]### \n",
            "  version   = 4\n",
            "  ihl       = None\n",
            "  tos       = 0x0\n",
            "  len       = None\n",
            "  id        = 1\n",
            "  flags     = \n",
            "  frag      = 0\n",
            "  ttl       = 64\n",
            "  proto     = 17\n",
            "  chksum    = None\n",
            "  src       = 172.28.0.12\n",
            "  dst       = 8.8.8.8\n",
            "  \\options   \\\n",
            "###[ UDP ]### \n",
            "     sport     = 53\n",
            "     dport     = 53\n",
            "     len       = None\n",
            "     chksum    = None\n",
            "###[ DNS ]### \n",
            "        id        = 0\n",
            "        qr        = 0\n",
            "        opcode    = QUERY\n",
            "        aa        = 0\n",
            "        tc        = 0\n",
            "        rd        = 1\n",
            "        ra        = 0\n",
            "        z         = 0\n",
            "        ad        = 0\n",
            "        cd        = 0\n",
            "        rcode     = ok\n",
            "        qdcount   = 1\n",
            "        ancount   = 0\n",
            "        nscount   = 0\n",
            "        arcount   = 0\n",
            "        \\qd        \\\n",
            "         |###[ DNS Question Record ]### \n",
            "         |  qname     = 'www.example.com.'\n",
            "         |  qtype     = A\n",
            "         |  qclass    = IN\n",
            "        an        = None\n",
            "        ns        = None\n",
            "        ar        = None\n",
            "\n"
          ]
        }
      ]
    }
  ]
}