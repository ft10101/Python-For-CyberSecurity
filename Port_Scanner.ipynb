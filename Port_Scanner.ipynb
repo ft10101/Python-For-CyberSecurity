{
  "nbformat": 4,
  "nbformat_minor": 0,
  "metadata": {
    "colab": {
      "provenance": [],
      "authorship_tag": "ABX9TyPf8mYUslN+rqntC0O7whHG",
      "include_colab_link": true
    },
    "kernelspec": {
      "name": "python3",
      "display_name": "Python 3"
    },
    "language_info": {
      "name": "python"
    }
  },
  "cells": [
    {
      "cell_type": "markdown",
      "metadata": {
        "id": "view-in-github",
        "colab_type": "text"
      },
      "source": [
        "<a href=\"https://colab.research.google.com/github/ft10101/Python-For-CyberSecurity/blob/main/Port_Scanner.ipynb\" target=\"_parent\"><img src=\"https://colab.research.google.com/assets/colab-badge.svg\" alt=\"Open In Colab\"/></a>"
      ]
    },
    {
      "cell_type": "code",
      "execution_count": 1,
      "metadata": {
        "colab": {
          "base_uri": "https://localhost:8080/"
        },
        "id": "ZAZFgBFVE67O",
        "outputId": "8ef443ad-245d-4e1f-a867-4e1c86541675"
      },
      "outputs": [
        {
          "output_type": "stream",
          "name": "stdout",
          "text": [
            "Looking in indexes: https://pypi.org/simple, https://us-python.pkg.dev/colab-wheels/public/simple/\n",
            "Collecting scapy\n",
            "  Downloading scapy-2.5.0.tar.gz (1.3 MB)\n",
            "\u001b[2K     \u001b[90m━━━━━━━━━━━━━━━━━━━━━━━━━━━━━━━━━━━━━━━━\u001b[0m \u001b[32m1.3/1.3 MB\u001b[0m \u001b[31m16.8 MB/s\u001b[0m eta \u001b[36m0:00:00\u001b[0m\n",
            "\u001b[?25h  Preparing metadata (setup.py) ... \u001b[?25l\u001b[?25hdone\n",
            "Building wheels for collected packages: scapy\n",
            "  Building wheel for scapy (setup.py) ... \u001b[?25l\u001b[?25hdone\n",
            "  Created wheel for scapy: filename=scapy-2.5.0-py2.py3-none-any.whl size=1444345 sha256=cccd5abdb266993237dfeaab754c3ee66ff8bc71941464e3fa07e6fd83a6cc4f\n",
            "  Stored in directory: /root/.cache/pip/wheels/dd/1b/47/d46b1a87e339be501612cf4cd1bf57742e534f9c9aac7b00d6\n",
            "Successfully built scapy\n",
            "Installing collected packages: scapy\n",
            "Successfully installed scapy-2.5.0\n"
          ]
        }
      ],
      "source": [
        "pip install scapy"
      ]
    },
    {
      "cell_type": "code",
      "source": [
        "from scapy.all import *"
      ],
      "metadata": {
        "id": "kkdnP7VeRLOM"
      },
      "execution_count": 3,
      "outputs": []
    },
    {
      "cell_type": "code",
      "source": [
        "ports = {25,80,53,443,445,8080,8443}\n",
        "#popular ports associated with protocols such as sql, dns etc"
      ],
      "metadata": {
        "id": "Btm-764zRV4X"
      },
      "execution_count": 37,
      "outputs": []
    },
    {
      "cell_type": "code",
      "source": [
        "def SynScan(host):\n",
        "  print(\"Open ports at %s: \"%host)\n",
        "  for port in ports:\n",
        "    ans,unans = sr(IP(dst=host)/TCP(sport=5555,dport=port,flags=\"S\"),timeout=2,verbose=0)\n",
        "    for (s,r) in ans:\n",
        "       if s[TCP].dport == r[TCP].sport:\n",
        "         print(s[TCP].dport)"
      ],
      "metadata": {
        "id": "a_lyLLXEShQb"
      },
      "execution_count": 42,
      "outputs": []
    },
    {
      "cell_type": "code",
      "source": [
        "def DNSScan(host):\n",
        "  ans,unans = sr(IP(dst=host)/UDP(sport=5555,dport=53)/DNS(rd=1,qd=DNSQR(qname=\"google.com\")),timeout=2,verbose=0)\n",
        "  if ans:\n",
        "    print(\"DNS Server at %s:\"%host)"
      ],
      "metadata": {
        "id": "gWNPCa10T2Kq"
      },
      "execution_count": 43,
      "outputs": []
    },
    {
      "cell_type": "code",
      "source": [
        "host = \"8.8.8.8\""
      ],
      "metadata": {
        "id": "U-pvi_cCZRwz"
      },
      "execution_count": 44,
      "outputs": []
    },
    {
      "cell_type": "code",
      "source": [
        "SynScan(host)\n",
        "DNSScan(host)"
      ],
      "metadata": {
        "colab": {
          "base_uri": "https://localhost:8080/"
        },
        "id": "fzpFnYMoZeJY",
        "outputId": "38d9128c-fde8-4e83-b995-7f0223355069"
      },
      "execution_count": 45,
      "outputs": [
        {
          "output_type": "stream",
          "name": "stdout",
          "text": [
            "Open ports at 8.8.8.8: \n",
            "53\n",
            "443\n",
            "DNS Server at 8.8.8.8:\n"
          ]
        }
      ]
    }
  ]
}